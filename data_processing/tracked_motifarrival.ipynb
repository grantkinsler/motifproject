{
 "cells": [
  {
   "cell_type": "code",
   "execution_count": 1,
   "metadata": {
    "collapsed": false
   },
   "outputs": [],
   "source": [
    "%matplotlib inline\n",
    "import ast\n",
    "import matplotlib.pyplot as plt\n",
    "import seaborn as sns\n",
    "import csv\n",
    "import numpy as np\n",
    "import math\n",
    "import scipy\n",
    "from matplotlib import rc\n",
    "rc('text', usetex=True)\n",
    "sns.set_style(\"white\")\n",
    "sns.set_style(\"ticks\")"
   ]
  },
  {
   "cell_type": "code",
   "execution_count": 2,
   "metadata": {
    "collapsed": false
   },
   "outputs": [
    {
     "ename": "KeyboardInterrupt",
     "evalue": "",
     "output_type": "error",
     "traceback": [
      "\u001b[0;31m---------------------------------------------------------------------------\u001b[0m",
      "\u001b[0;31mKeyboardInterrupt\u001b[0m                         Traceback (most recent call last)",
      "\u001b[0;32m<ipython-input-2-1c19ef85c54d>\u001b[0m in \u001b[0;36m<module>\u001b[0;34m()\u001b[0m\n\u001b[1;32m     28\u001b[0m                     \u001b[0;32melse\u001b[0m\u001b[0;34m:\u001b[0m\u001b[0;34m\u001b[0m\u001b[0m\n\u001b[1;32m     29\u001b[0m                         \u001b[0;32mfor\u001b[0m \u001b[0mword\u001b[0m \u001b[0;32min\u001b[0m \u001b[0mline\u001b[0m\u001b[0;34m:\u001b[0m\u001b[0;34m\u001b[0m\u001b[0m\n\u001b[0;32m---> 30\u001b[0;31m                             \u001b[0mnew_line\u001b[0m\u001b[0;34m.\u001b[0m\u001b[0mappend\u001b[0m\u001b[0;34m(\u001b[0m\u001b[0mast\u001b[0m\u001b[0;34m.\u001b[0m\u001b[0mliteral_eval\u001b[0m\u001b[0;34m(\u001b[0m\u001b[0mword\u001b[0m\u001b[0;34m)\u001b[0m\u001b[0;34m)\u001b[0m\u001b[0;34m\u001b[0m\u001b[0m\n\u001b[0m\u001b[1;32m     31\u001b[0m                         \u001b[0mtriallist\u001b[0m\u001b[0;34m[\u001b[0m\u001b[0melong\u001b[0m\u001b[0;34m]\u001b[0m\u001b[0;34m[\u001b[0m\u001b[0mbias\u001b[0m\u001b[0;34m]\u001b[0m\u001b[0;34m[\u001b[0m\u001b[0mmotif\u001b[0m\u001b[0;34m]\u001b[0m\u001b[0;34m[\u001b[0m\u001b[0mtrial_tracker\u001b[0m\u001b[0;34m]\u001b[0m\u001b[0;34m[\u001b[0m\u001b[0mnew_line\u001b[0m\u001b[0;34m[\u001b[0m\u001b[0;36m0\u001b[0m\u001b[0;34m]\u001b[0m\u001b[0;34m]\u001b[0m \u001b[0;34m=\u001b[0m \u001b[0;34m{\u001b[0m\u001b[0;34m'nr_motifs'\u001b[0m\u001b[0;34m:\u001b[0m\u001b[0mnew_line\u001b[0m\u001b[0;34m[\u001b[0m\u001b[0;36m1\u001b[0m\u001b[0;34m]\u001b[0m\u001b[0;34m}\u001b[0m\u001b[0;34m\u001b[0m\u001b[0m\n\u001b[1;32m     32\u001b[0m                         \u001b[0;32mif\u001b[0m \u001b[0mlen\u001b[0m\u001b[0;34m(\u001b[0m\u001b[0mnew_line\u001b[0m\u001b[0;34m)\u001b[0m \u001b[0;34m==\u001b[0m\u001b[0;36m3\u001b[0m\u001b[0;34m:\u001b[0m\u001b[0;34m\u001b[0m\u001b[0m\n",
      "\u001b[0;32m/Applications/Canopy.app/appdata/canopy-1.1.0.1371.macosx-x86_64/Canopy.app/Contents/lib/python2.7/ast.pyc\u001b[0m in \u001b[0;36mliteral_eval\u001b[0;34m(node_or_string)\u001b[0m\n\u001b[1;32m     47\u001b[0m     \u001b[0m_safe_names\u001b[0m \u001b[0;34m=\u001b[0m \u001b[0;34m{\u001b[0m\u001b[0;34m'None'\u001b[0m\u001b[0;34m:\u001b[0m \u001b[0mNone\u001b[0m\u001b[0;34m,\u001b[0m \u001b[0;34m'True'\u001b[0m\u001b[0;34m:\u001b[0m \u001b[0mTrue\u001b[0m\u001b[0;34m,\u001b[0m \u001b[0;34m'False'\u001b[0m\u001b[0;34m:\u001b[0m \u001b[0mFalse\u001b[0m\u001b[0;34m}\u001b[0m\u001b[0;34m\u001b[0m\u001b[0m\n\u001b[1;32m     48\u001b[0m     \u001b[0;32mif\u001b[0m \u001b[0misinstance\u001b[0m\u001b[0;34m(\u001b[0m\u001b[0mnode_or_string\u001b[0m\u001b[0;34m,\u001b[0m \u001b[0mbasestring\u001b[0m\u001b[0;34m)\u001b[0m\u001b[0;34m:\u001b[0m\u001b[0;34m\u001b[0m\u001b[0m\n\u001b[0;32m---> 49\u001b[0;31m         \u001b[0mnode_or_string\u001b[0m \u001b[0;34m=\u001b[0m \u001b[0mparse\u001b[0m\u001b[0;34m(\u001b[0m\u001b[0mnode_or_string\u001b[0m\u001b[0;34m,\u001b[0m \u001b[0mmode\u001b[0m\u001b[0;34m=\u001b[0m\u001b[0;34m'eval'\u001b[0m\u001b[0;34m)\u001b[0m\u001b[0;34m\u001b[0m\u001b[0m\n\u001b[0m\u001b[1;32m     50\u001b[0m     \u001b[0;32mif\u001b[0m \u001b[0misinstance\u001b[0m\u001b[0;34m(\u001b[0m\u001b[0mnode_or_string\u001b[0m\u001b[0;34m,\u001b[0m \u001b[0mExpression\u001b[0m\u001b[0;34m)\u001b[0m\u001b[0;34m:\u001b[0m\u001b[0;34m\u001b[0m\u001b[0m\n\u001b[1;32m     51\u001b[0m         \u001b[0mnode_or_string\u001b[0m \u001b[0;34m=\u001b[0m \u001b[0mnode_or_string\u001b[0m\u001b[0;34m.\u001b[0m\u001b[0mbody\u001b[0m\u001b[0;34m\u001b[0m\u001b[0m\n",
      "\u001b[0;32m/Applications/Canopy.app/appdata/canopy-1.1.0.1371.macosx-x86_64/Canopy.app/Contents/lib/python2.7/ast.pyc\u001b[0m in \u001b[0;36mparse\u001b[0;34m(source, filename, mode)\u001b[0m\n\u001b[1;32m     35\u001b[0m     \u001b[0mEquivalent\u001b[0m \u001b[0mto\u001b[0m \u001b[0mcompile\u001b[0m\u001b[0;34m(\u001b[0m\u001b[0msource\u001b[0m\u001b[0;34m,\u001b[0m \u001b[0mfilename\u001b[0m\u001b[0;34m,\u001b[0m \u001b[0mmode\u001b[0m\u001b[0;34m,\u001b[0m \u001b[0mPyCF_ONLY_AST\u001b[0m\u001b[0;34m)\u001b[0m\u001b[0;34m.\u001b[0m\u001b[0;34m\u001b[0m\u001b[0m\n\u001b[1;32m     36\u001b[0m     \"\"\"\n\u001b[0;32m---> 37\u001b[0;31m     \u001b[0;32mreturn\u001b[0m \u001b[0mcompile\u001b[0m\u001b[0;34m(\u001b[0m\u001b[0msource\u001b[0m\u001b[0;34m,\u001b[0m \u001b[0mfilename\u001b[0m\u001b[0;34m,\u001b[0m \u001b[0mmode\u001b[0m\u001b[0;34m,\u001b[0m \u001b[0mPyCF_ONLY_AST\u001b[0m\u001b[0;34m)\u001b[0m\u001b[0;34m\u001b[0m\u001b[0m\n\u001b[0m\u001b[1;32m     38\u001b[0m \u001b[0;34m\u001b[0m\u001b[0m\n\u001b[1;32m     39\u001b[0m \u001b[0;34m\u001b[0m\u001b[0m\n",
      "\u001b[0;31mKeyboardInterrupt\u001b[0m: "
     ]
    }
   ],
   "source": [
    "parameter_list = []\n",
    "triallist = []\n",
    "elonglist = [0.05]\n",
    "motiflist = ['10000','00001']\n",
    "biaslist = [0.5,0.7,0.9]\n",
    "for elong in range(len(elonglist)):\n",
    "    triallist.append([])\n",
    "    for bias in range(len(biaslist)):\n",
    "        triallist[elong].append([])\n",
    "        for motif in range(len(motiflist)):\n",
    "            triallist[elong][bias].append([])\n",
    "            file_name = \"../data/MotifSimulation_TESTA_TrackedData_motif\"+motiflist[motif]+\"_len7_bias\"+str(biaslist[bias])+\"_elong\"+str(elonglist[elong])+\"_25trials_numRound4000.csv\"\n",
    "\n",
    "\n",
    "            with open(file_name) as f:\n",
    "                handle = csv.reader(f)\n",
    "                line_counter = 0\n",
    "                trial_tracker = -1\n",
    "                for line in handle:\n",
    "                    new_line = []\n",
    "                    if line_counter == 0:\n",
    "                        for word in line:\n",
    "                            parameter_list.append(word)\n",
    "                        line_counter += 1\n",
    "                    elif 'Trial' in line[0]:\n",
    "                        triallist[elong][bias][motif].append({})\n",
    "                        trial_tracker += 1\n",
    "                    else:\n",
    "                        for word in line:\n",
    "                            new_line.append(ast.literal_eval(word))\n",
    "                        triallist[elong][bias][motif][trial_tracker][new_line[0]] = {'nr_motifs':new_line[1]}\n",
    "                        if len(new_line) ==3:\n",
    "                            triallist[elong][bias][motif][trial_tracker][new_line[0]]['daughters'] = new_line[2]\n",
    "                        else:\n",
    "                            triallist[elong][bias][motif][trial_tracker][new_line[0]]['daughters'] = None\n",
    "                "
   ]
  },
  {
   "cell_type": "code",
   "execution_count": 257,
   "metadata": {
    "collapsed": false
   },
   "outputs": [],
   "source": [
    "start_zero = []\n",
    "for elong in range(len(elonglist)):\n",
    "    start_zero.append([])\n",
    "    for bias in range(len(biaslist)):\n",
    "        start_zero[elong].append([])\n",
    "        for motif in range(len(motiflist)):\n",
    "            start_zero[elong][bias].append([])\n",
    "            for trial in range(len(triallist[elong][bias][motif])):\n",
    "                start_zero[elong][bias][motif].append([])\n",
    "                for cell,content_dict in triallist[elong][bias][motif][trial].iteritems():\n",
    "            #         print cell\n",
    "            #         print content_dict['nr_motifs']\n",
    "                    if content_dict['nr_motifs'][0]==0 and 1 in content_dict['nr_motifs']:\n",
    "                        start_zero[elong][bias][motif][trial].append(content_dict['nr_motifs'])\n",
    "    "
   ]
  },
  {
   "cell_type": "code",
   "execution_count": 258,
   "metadata": {
    "collapsed": false
   },
   "outputs": [],
   "source": [
    "time_tracker = []\n",
    "inbetween_times = []\n",
    "for elong in range(len(elonglist)):\n",
    "    time_tracker.append([])\n",
    "    inbetween_times.append([])\n",
    "    for bias in range(len(biaslist)):\n",
    "        time_tracker[elong].append([])\n",
    "        inbetween_times[elong].append([])\n",
    "        for motif in range(len(motiflist)):\n",
    "            time_tracker[elong][bias].append([])\n",
    "            inbetween_times[elong][bias].append([])\n",
    "            for item in range(1,101):\n",
    "                time_tracker[elong][bias][motif].append([])\n",
    "                inbetween_times[elong][bias][motif].append([])\n",
    "                for trial in range(len(start_zero[elong][bias][motif])):\n",
    "                    \n",
    "                    for cell in range(len(start_zero[elong][bias][motif][trial])):\n",
    "                            if item in start_zero[elong][bias][motif][trial][cell]:\n",
    "                                time_tracker[elong][bias][motif][item-1].append(start_zero[elong][bias][motif][trial][cell].index(item))\n",
    "                                if item -1 in start_zero[elong][bias][motif][trial][cell]:\n",
    "                                    inbetween_times[elong][bias][motif][item-1].append(start_zero[elong][bias][motif][trial][cell].index(item)-start_zero[elong][bias][motif][trial][cell].index(item-1))\n",
    "                                else:\n",
    "                                    inbetween_times[elong][bias][motif][item-1].append(0)"
   ]
  },
  {
   "cell_type": "code",
   "execution_count": 259,
   "metadata": {
    "collapsed": false
   },
   "outputs": [],
   "source": [
    "average_arrival_time = []\n",
    "average_between_time = []\n",
    "stderr_between_time = []\n",
    "for elong in range(len(elonglist)):\n",
    "    average_arrival_time.append([])\n",
    "    average_between_time.append([])\n",
    "    stderr_between_time.append([])\n",
    "    for bias in range(len(biaslist)):\n",
    "        average_arrival_time[elong].append([])\n",
    "        average_between_time[elong].append([])\n",
    "        stderr_between_time[elong].append([])\n",
    "        for motif in range(len(motiflist)):\n",
    "            average_arrival_time[elong][bias].append([])\n",
    "            average_between_time[elong][bias].append([])\n",
    "            stderr_between_time[elong][bias].append([])\n",
    "            for item in range(len(time_tracker[elong][bias][motif])):\n",
    "                average_arrival_time[elong][bias][motif].append(np.mean(time_tracker[elong][bias][motif][item]))\n",
    "                average_between_time[elong][bias][motif].append(np.mean(inbetween_times[elong][bias][motif][item]))\n",
    "                stderr_between_time[elong][bias][motif].append(1.96*math.sqrt(np.var(inbetween_times[elong][bias][motif][item])/len(inbetween_times[elong][bias][motif][item])))"
   ]
  },
  {
   "cell_type": "code",
   "execution_count": 262,
   "metadata": {
    "collapsed": false
   },
   "outputs": [
    {
     "data": {
      "text/plain": [
       "([<matplotlib.axis.XTick at 0x17bd778d0>,\n",
       "  <matplotlib.axis.XTick at 0x17bd68f90>,\n",
       "  <matplotlib.axis.XTick at 0x17bf0eb50>,\n",
       "  <matplotlib.axis.XTick at 0x17bf12190>,\n",
       "  <matplotlib.axis.XTick at 0x17bf128d0>,\n",
       "  <matplotlib.axis.XTick at 0x17bf13050>,\n",
       "  <matplotlib.axis.XTick at 0x17bf13790>,\n",
       "  <matplotlib.axis.XTick at 0x17bf13ed0>,\n",
       "  <matplotlib.axis.XTick at 0x17bf15390>],\n",
       " <a list of 9 Text xticklabel objects>)"
      ]
     },
     "execution_count": 262,
     "metadata": {},
     "output_type": "execute_result"
    },
    {
     "data": {
      "image/png": "[encoded data removed]",
      "text/plain": [
       "<matplotlib.figure.Figure at 0x17bd6a5d0>"
      ]
     },
     "metadata": {},
     "output_type": "display_data"
    }
   ],
   "source": [
    "elong = 0\n",
    "time = 10\n",
    "plt.figure()\n",
    "plt.errorbar(range(2,time+1),average_between_time[elong][0][0][1:time],yerr=stderr_between_time[elong][0][0][1:time],color='gray',alpha=0.35)\n",
    "plt.errorbar(range(2,time+1),average_between_time[elong][0][1][1:time],yerr=stderr_between_time[elong][0][1][1:time],color='gray',alpha=0.35)\n",
    "plt.errorbar(range(2,time+1),average_between_time[elong][2][0][1:time],yerr=stderr_between_time[elong][2][0][1:time],color='b',label=motiflist[0])\n",
    "plt.errorbar(range(2,time+1),average_between_time[elong][2][1][1:time],yerr=stderr_between_time[elong][2][1][1:time],color='r',label=motiflist[1])\n",
    "plt.ylabel('Mean Interarrival Time')\n",
    "plt.xlabel('Subsequent Motifs')\n",
    "plt.legend(loc='upper right',fontsize=15)\n",
    "plt.xlim(1.9,time+.1)\n",
    "plt.xticks(range(2,time+1),range(1,time))\n",
    "# plt.savefig('motifinterarrival_subsequent_usetex_errorbar_4000round_25trials.pdf',rasterized=True,bbox_inches='tight')"
   ]
  }
 ],
 "metadata": {
  "kernelspec": {
   "display_name": "Python 2",
   "language": "python",
   "name": "python2"
  },
  "language_info": {
   "codemirror_mode": {
    "name": "ipython",
    "version": 2
   },
   "file_extension": ".py",
   "mimetype": "text/x-python",
   "name": "python",
   "nbconvert_exporter": "python",
   "pygments_lexer": "ipython2",
   "version": "2.7.3"
  }
 },
 "nbformat": 4,
 "nbformat_minor": 0
}
